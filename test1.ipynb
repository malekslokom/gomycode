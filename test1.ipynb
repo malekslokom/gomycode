{
  "nbformat": 4,
  "nbformat_minor": 0,
  "metadata": {
    "colab": {
      "name": "test1.ipynb",
      "provenance": [],
      "collapsed_sections": []
    },
    "kernelspec": {
      "name": "python3",
      "display_name": "Python 3"
    }
  },
  "cells": [
    {
      "cell_type": "code",
      "metadata": {
        "id": "WYf3kBhdpbcP",
        "colab_type": "code",
        "colab": {
          "base_uri": "https://localhost:8080/",
          "height": 54
        },
        "outputId": "c2c06091-5ee3-4655-b62b-4caa793578fe"
      },
      "source": [
        "#Exercice1\n",
        "for i in range(2000,3201):\n",
        "    if (i%7==0 and i%5 != 0):\n",
        "        print(i, end =\" \")"
      ],
      "execution_count": 60,
      "outputs": [
        {
          "output_type": "stream",
          "text": [
            "2002 2009 2016 2023 2037 2044 2051 2058 2072 2079 2086 2093 2107 2114 2121 2128 2142 2149 2156 2163 2177 2184 2191 2198 2212 2219 2226 2233 2247 2254 2261 2268 2282 2289 2296 2303 2317 2324 2331 2338 2352 2359 2366 2373 2387 2394 2401 2408 2422 2429 2436 2443 2457 2464 2471 2478 2492 2499 2506 2513 2527 2534 2541 2548 2562 2569 2576 2583 2597 2604 2611 2618 2632 2639 2646 2653 2667 2674 2681 2688 2702 2709 2716 2723 2737 2744 2751 2758 2772 2779 2786 2793 2807 2814 2821 2828 2842 2849 2856 2863 2877 2884 2891 2898 2912 2919 2926 2933 2947 2954 2961 2968 2982 2989 2996 3003 3017 3024 3031 3038 3052 3059 3066 3073 3087 3094 3101 3108 3122 3129 3136 3143 3157 3164 3171 3178 3192 3199 "
          ],
          "name": "stdout"
        }
      ]
    },
    {
      "cell_type": "code",
      "metadata": {
        "id": "YoStXH9qpw5r",
        "colab_type": "code",
        "colab": {
          "base_uri": "https://localhost:8080/",
          "height": 50
        },
        "outputId": "60531a2d-8ff6-4ef3-82b6-eb6d0d0bcff2"
      },
      "source": [
        "#Exercice2\n",
        "try:\n",
        "    n=int(input())\n",
        "    f=1\n",
        "    for j in range(2,n+1):\n",
        "      f=f*j\n",
        "    print(f)\n",
        "except:\n",
        "    print(\"the input should be integer\")"
      ],
      "execution_count": 31,
      "outputs": [
        {
          "output_type": "stream",
          "text": [
            "l\n",
            "the input should be integer\n"
          ],
          "name": "stdout"
        }
      ]
    },
    {
      "cell_type": "code",
      "metadata": {
        "id": "8suyVeXTskNb",
        "colab_type": "code",
        "colab": {
          "base_uri": "https://localhost:8080/",
          "height": 50
        },
        "outputId": "9e8b492c-225c-4810-eca5-ec7fc574f92b"
      },
      "source": [
        "#Exercice3\n",
        "try:\n",
        "    n=int(input())\n",
        "    d=dict()\n",
        "    for i in range(1,n+1):\n",
        "        d[i]=i*i\n",
        "    print(d)\n",
        "except:\n",
        "    print(\"the input should be integer\")"
      ],
      "execution_count": 33,
      "outputs": [
        {
          "output_type": "stream",
          "text": [
            "8\n",
            "{1: 1, 2: 4, 3: 9, 4: 16, 5: 25, 6: 36, 7: 49, 8: 64}\n"
          ],
          "name": "stdout"
        }
      ]
    },
    {
      "cell_type": "code",
      "metadata": {
        "id": "BmdAUJrHuTUv",
        "colab_type": "code",
        "colab": {
          "base_uri": "https://localhost:8080/",
          "height": 101
        },
        "outputId": "a73d90c7-5a33-4290-d737-8e0f1941d01e"
      },
      "source": [
        "#Exercice4\n",
        "def missing_char(ch,n):\n",
        "  return ch.replace(ch[n],'')\n",
        "try:\n",
        "    print(\"String(ch)=\")\n",
        "    ch=input()\n",
        "    print(\"index in 0 and len(ch)-1=\")\n",
        "    n=int(input())   \n",
        "    if (n<0 or n>len(ch)-1):\n",
        "      raise Exception (\"length should be between 0-len(ch)-1\")\n",
        "    else:\n",
        "      print(\"(\"+ch+\";\"+str(n)+\")->\"+missing_char(ch,n))\n",
        "except:\n",
        "    print(\"the input should be an integer \")"
      ],
      "execution_count": 44,
      "outputs": [
        {
          "output_type": "stream",
          "text": [
            "String(ch)=\n",
            "kiteen\n",
            "index in 0 and len(ch)-1=\n",
            "10\n",
            "the input should be integer and between 0-len(ch)-1\n"
          ],
          "name": "stdout"
        }
      ]
    },
    {
      "cell_type": "code",
      "metadata": {
        "id": "aUF6uMt7y2Pt",
        "colab_type": "code",
        "colab": {
          "base_uri": "https://localhost:8080/",
          "height": 50
        },
        "outputId": "d0816ed3-b479-4ee8-a9f5-014bfe50d56e"
      },
      "source": [
        "#Exercice5\n",
        "import numpy as np\n",
        "A=np.array([[0,1],[2,3],[4,5]])\n",
        "\n",
        "B=A.tolist()\n",
        "print(B)"
      ],
      "execution_count": 67,
      "outputs": [
        {
          "output_type": "stream",
          "text": [
            "<class 'numpy.ndarray'>\n",
            "[[0, 1], [2, 3], [4, 5]]\n"
          ],
          "name": "stdout"
        }
      ]
    },
    {
      "cell_type": "code",
      "metadata": {
        "id": "9hSb894N1YS6",
        "colab_type": "code",
        "colab": {
          "base_uri": "https://localhost:8080/",
          "height": 50
        },
        "outputId": "e3ba26f9-b011-4f9e-8e36-c076180812c8"
      },
      "source": [
        "#Exercice6\n",
        "A=np.array([0,1,2])\n",
        "B=np.array([2,1,0])\n",
        "C=np.cov(A,B)\n",
        "C"
      ],
      "execution_count": 73,
      "outputs": [
        {
          "output_type": "execute_result",
          "data": {
            "text/plain": [
              "array([[ 1., -1.],\n",
              "       [-1.,  1.]])"
            ]
          },
          "metadata": {
            "tags": []
          },
          "execution_count": 73
        }
      ]
    },
    {
      "cell_type": "code",
      "metadata": {
        "id": "qLPO51h049Rw",
        "colab_type": "code",
        "colab": {
          "base_uri": "https://localhost:8080/",
          "height": 67
        },
        "outputId": "11539e73-ab98-41e2-8e42-39d0d5c929dd"
      },
      "source": [
        "#Exercice7\n",
        "from math import sqrt\n",
        "def Square(c,d,h):\n",
        "  return round(sqrt(2*c*d/h))\n",
        "try:\n",
        "    print(\"D=\")\n",
        "    d=int(input())  \n",
        "    print(Square(50,d,30))\n",
        "except:\n",
        "    print(\"the input should be an integer\")"
      ],
      "execution_count": 80,
      "outputs": [
        {
          "output_type": "stream",
          "text": [
            "D=\n",
            "180\n",
            "24\n"
          ],
          "name": "stdout"
        }
      ]
    }
  ]
}